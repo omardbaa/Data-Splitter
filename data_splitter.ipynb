{
 "cells": [
  {
   "cell_type": "code",
   "execution_count": 159,
   "id": "f67e6065",
   "metadata": {},
   "outputs": [
    {
     "data": {
      "text/plain": [
       "22945"
      ]
     },
     "execution_count": 159,
     "metadata": {},
     "output_type": "execute_result"
    }
   ],
   "source": [
    "data = pd.read_csv(\"cleaned_repositoriesV2.csv\")\n",
    "original_length = len(data)\n",
    "original_length"
   ]
  },
  {
   "cell_type": "code",
   "execution_count": 160,
   "id": "88381f33",
   "metadata": {},
   "outputs": [],
   "source": [
    "import pandas as pd\n",
    "import numpy as np\n",
    "import json\n",
    "import sqlalchemy as sa\n",
    "from sqlalchemy import text"
   ]
  },
  {
   "cell_type": "code",
   "execution_count": 161,
   "id": "437b84e7",
   "metadata": {},
   "outputs": [],
   "source": [
    "server = \"server\"\n",
    "database = \"database\"\n",
    "table = \"table\"\n",
    "driver = \"driver\"\n"
   ]
  },
  {
   "cell_type": "code",
   "execution_count": 162,
   "id": "13c51d98",
   "metadata": {
    "scrolled": true
   },
   "outputs": [
    {
     "name": "stdout",
     "output_type": "stream",
     "text": [
      "Nombre de lignes insérées dans la base de données : 6883 (30.00%)\n",
      "Nombre de lignes dans le fichier JSON : 6883 (30.00%)\n",
      "Nombre de lignes dans le fichier CSV : 9179 (40.00%)\n"
     ]
    }
   ],
   "source": [
    "def split_data_to_json_db_csv(csv_file, json_file, db_connection_string, db_table, distribution=(0.3, 0.3, 0.4), header=True):\n",
    "    # Chargement du fichier CSV\n",
    "    data = pd.read_csv(csv_file)\n",
    "    \n",
    "    # Obtenir la longueur du fichier original\n",
    "    original_length = len(data)\n",
    "    \n",
    "    # Mélanger les données pour la randomisation\n",
    "    data = data.sample(frac=1, random_state=42).reset_index(drop=True)\n",
    "    \n",
    "    # Calculer le nombre de lignes pour chaque destination\n",
    "    total_rows = len(data)\n",
    "    json_rows = int(distribution[0] * total_rows)\n",
    "    db_rows = int(distribution[1] * total_rows)\n",
    "    \n",
    "    # Séparer les données en JSON, base de données et CSV\n",
    "    data_json = data.iloc[:json_rows, :]\n",
    "    data_db = data.iloc[json_rows:json_rows + db_rows, :]\n",
    "    data_csv = data.iloc[json_rows + db_rows:, :]\n",
    "    \n",
    "    # Sauvegarder les données au format JSON\n",
    "    data_json.to_json(json_file, orient='records', lines=True)\n",
    "    \n",
    "    # Sauvegarder les données CSV sans en-tête\n",
    "    data_csv.to_csv('cleaned_repositories.csv', index=False, header=False)\n",
    "    \n",
    "    # Sauvegarder les données dans la base de données\n",
    "    engine = sa.create_engine(db_connection_string)\n",
    "    data_db.to_sql(db_table, engine, if_exists='replace', index=False)\n",
    "    \n",
    "    # Afficher les statistiques après l'insertion\n",
    "    with engine.connect() as conn:\n",
    "        query = text(f\"SELECT COUNT(*) FROM {db_table};\")\n",
    "        result = conn.execute(query)\n",
    "        db_rows_inserted = result.scalar()\n",
    "        print(f\"Nombre de lignes insérées dans la base de données : {db_rows_inserted} ({(db_rows_inserted / original_length) * 100:.2f}%)\")\n",
    "        print(f\"Nombre de lignes dans le fichier JSON : {len(data_json)} ({(len(data_json) / original_length) * 100:.2f}%)\")\n",
    "        print(f\"Nombre de lignes dans le fichier CSV : {len(data_csv)} ({(len(data_csv) / original_length) * 100:.2f}%)\")\n",
    "\n",
    "if __name__ == \"__main__\":\n",
    "    csv_file_path = \"cleaned_repositoriesV2.csv\"\n",
    "    json_file_path = \"cleaned_repositories.json\"\n",
    "    db_server = server\n",
    "    db_name = database\n",
    "    db_driver = driver\n",
    "    db_table = table\n",
    "    trusted_connection = \"yes\"  # Vous pouvez définir ceci sur \"yes\" ou \"no\" en fonction de votre configuration\n",
    "    \n",
    "    # Construire la chaîne de connexion à la base de données\n",
    "    db_connection_string = f\"mssql+pyodbc:///?trusted_connection={trusted_connection}&driver={db_driver}&server={db_server}&database={db_name}\"\n",
    "    \n",
    "    # Définir la répartition (30% JSON, 30% base de données, 40% CSV)\n",
    "    distribution = (0.3, 0.3, 0.4)\n",
    "    \n",
    "    # Appeler la fonction pour diviser les données\n",
    "    split_data_to_json_db_csv(csv_file_path, json_file_path, db_connection_string, db_table, distribution, header=True)\n"
   ]
  }
 ],
 "metadata": {
  "kernelspec": {
   "display_name": "Python 3 (ipykernel)",
   "language": "python",
   "name": "python3"
  },
  "language_info": {
   "codemirror_mode": {
    "name": "ipython",
    "version": 3
   },
   "file_extension": ".py",
   "mimetype": "text/x-python",
   "name": "python",
   "nbconvert_exporter": "python",
   "pygments_lexer": "ipython3",
   "version": "3.11.3"
  }
 },
 "nbformat": 4,
 "nbformat_minor": 5
}
